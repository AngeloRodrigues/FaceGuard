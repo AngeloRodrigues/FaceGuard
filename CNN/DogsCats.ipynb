{
 "cells": [
  {
   "cell_type": "markdown",
   "metadata": {},
   "source": [
    "# CNN para reconhecimento de imagens\n",
    "## Dataset Dogs & Cats - Kaggle\n",
    "*Cleuton Sampaio*"
   ]
  },
  {
   "cell_type": "markdown",
   "metadata": {},
   "source": [
    "[Dataset Dogs & cats]()"
   ]
  },
  {
   "cell_type": "code",
   "execution_count": 84,
   "metadata": {},
   "outputs": [],
   "source": [
    "import keras \n",
    "import keras.backend as K\n",
    "import os, random\n",
    "from keras.layers import Dense, Conv2D, Input, MaxPooling2D, Flatten, Dropout\n",
    "from keras.models import Model\n",
    "from keras.datasets import fashion_mnist\n",
    "from keras.callbacks import ModelCheckpoint\n",
    "import numpy as np \n",
    "import matplotlib.pyplot as plt \n",
    "from matplotlib import cm\n",
    "import cv2 \n",
    "from keras.preprocessing import image\n",
    "%matplotlib inline"
   ]
  },
  {
   "cell_type": "code",
   "execution_count": 85,
   "metadata": {},
   "outputs": [],
   "source": [
    "batch_sz = 64 # Batch size\n",
    "nb_class = 2  # Número de classes\n",
    "nb_epochs = 10 # Número de epochs de treinamento\n",
    "img_h, img_w = 64, 64 # Altura e largura das imagens\n",
    "dir_treino = './dogscats/train/'\n",
    "dir_teste = './dogscats/test/'"
   ]
  },
  {
   "cell_type": "markdown",
   "metadata": {},
   "source": [
    "# Preparar arquivos de imagens"
   ]
  },
  {
   "cell_type": "code",
   "execution_count": 91,
   "metadata": {},
   "outputs": [],
   "source": [
    "def ler_imagem(file):\n",
    "    img = cv2.imread(file)\n",
    "    gray = cv2.cvtColor(img, cv2.COLOR_BGR2GRAY)\n",
    "    imres = cv2.resize(gray, (img_h, img_w), interpolation=cv2.INTER_CUBIC)\n",
    "    imres = image.img_to_array(imres.T)\n",
    "    imres = np.expand_dims(imres, axis = 0)    \n",
    "    return imres"
   ]
  },
  {
   "cell_type": "code",
   "execution_count": 92,
   "metadata": {},
   "outputs": [
    {
     "name": "stdout",
     "output_type": "stream",
     "text": [
      "Processados  1000\n",
      "Processados  2000\n",
      "Processados  3000\n",
      "Processados  4000\n",
      "Processados  5000\n",
      "Processados  6000\n",
      "Processados  7000\n",
      "Processados  8000\n",
      "Processados  9000\n",
      "Processados  10000\n",
      "Processados  11000\n",
      "Processados  12000\n",
      "Processados  13000\n",
      "Processados  14000\n",
      "Processados  15000\n",
      "Processados  16000\n",
      "Processados  17000\n",
      "Processados  18000\n",
      "Processados  19000\n",
      "Processados  20000\n",
      "Processados  21000\n",
      "Processados  22000\n",
      "Processados  23000\n",
      "Processados  24000\n",
      "Processados  25000\n"
     ]
    }
   ],
   "source": [
    "def gerar_dataset(filenames):\n",
    "    rotulos = []\n",
    "    dataset = np.ndarray((len(filenames), img_h, img_w, 1), dtype=np.uint8)\n",
    "    x = 0\n",
    "    for arquivo in filenames:\n",
    "        dataset[x] = ler_imagem(arquivo)\n",
    "        if '/cat.' in arquivo: \n",
    "            rotulos.append(0)\n",
    "        else:\n",
    "            rotulos.append(1)\n",
    "        x = x + 1\n",
    "        if x%1000==0:\n",
    "            print(\"Processados \",x)\n",
    "    return dataset, rotulos\n",
    "\n",
    "imagens_treino = [dir_treino+i for i in os.listdir(dir_treino) if '.jpg' in i]\n",
    "random.shuffle(imagens_treino)\n",
    "imagens_teste  = [dir_teste+i for i in os.listdir(dir_teste) if '.jpg' in i]\n",
    "x_treino, y_treino = gerar_dataset(imagens_treino)\n",
    "x_teste, y_teste  = gerar_dataset(imagens_teste)"
   ]
  },
  {
   "cell_type": "code",
   "execution_count": 93,
   "metadata": {},
   "outputs": [
    {
     "name": "stdout",
     "output_type": "stream",
     "text": [
      "(1, 64, 64, 1)\n"
     ]
    }
   ],
   "source": [
    "im = ler_imagem(imagens_treino[0])\n",
    "print(im.shape)"
   ]
  },
  {
   "cell_type": "code",
   "execution_count": 94,
   "metadata": {},
   "outputs": [],
   "source": [
    "def conv3x3(input_x,nb_filters):\n",
    "    # Prepara a camada convolucional\n",
    "    return Conv2D(nb_filters, kernel_size=(3,3), use_bias=False,\n",
    "               activation='relu', padding=\"same\")(input_x)"
   ]
  },
  {
   "cell_type": "code",
   "execution_count": 95,
   "metadata": {},
   "outputs": [
    {
     "name": "stdout",
     "output_type": "stream",
     "text": [
      "Train on 25000 samples, validate on 30 samples\n",
      "Epoch 1/10\n",
      "25000/25000 [==============================] - 620s 25ms/step - loss: 0.6499 - acc: 0.6105 - val_loss: 0.5821 - val_acc: 0.6000\n",
      "Epoch 2/10\n",
      "25000/25000 [==============================] - 787s 31ms/step - loss: 0.4946 - acc: 0.7598 - val_loss: 0.3507 - val_acc: 0.8333\n",
      "Epoch 3/10\n",
      "25000/25000 [==============================] - 985s 39ms/step - loss: 0.3940 - acc: 0.8217 - val_loss: 0.2028 - val_acc: 0.9000\n",
      "Epoch 4/10\n",
      "25000/25000 [==============================] - 616s 25ms/step - loss: 0.3208 - acc: 0.8603 - val_loss: 0.1899 - val_acc: 0.9000\n",
      "Epoch 5/10\n",
      "25000/25000 [==============================] - 615s 25ms/step - loss: 0.2589 - acc: 0.8884 - val_loss: 0.1011 - val_acc: 0.9667\n",
      "Epoch 6/10\n",
      "25000/25000 [==============================] - 608s 24ms/step - loss: 0.2085 - acc: 0.9136 - val_loss: 0.1021 - val_acc: 0.9667\n",
      "Epoch 7/10\n",
      "25000/25000 [==============================] - 611s 24ms/step - loss: 0.1559 - acc: 0.9376 - val_loss: 0.0986 - val_acc: 0.9667\n",
      "Epoch 8/10\n",
      "25000/25000 [==============================] - 609s 24ms/step - loss: 0.1064 - acc: 0.9583 - val_loss: 0.2444 - val_acc: 0.9333\n",
      "Epoch 9/10\n",
      "25000/25000 [==============================] - 608s 24ms/step - loss: 0.0825 - acc: 0.9686 - val_loss: 0.1354 - val_acc: 0.9000\n",
      "Epoch 10/10\n",
      "25000/25000 [==============================] - 608s 24ms/step - loss: 0.0547 - acc: 0.9798 - val_loss: 0.1490 - val_acc: 0.9667\n",
      "Perda: 0.1489611566066742\n",
      "Acurácia: 0.9666666388511658\n"
     ]
    },
    {
     "data": {
      "image/png": "[encoded data removed]",
      "text/plain": [
       "<Figure size 432x288 with 1 Axes>"
      ]
     },
     "metadata": {},
     "output_type": "display_data"
    },
    {
     "data": {
      "image/png": "[encoded data removed]",
      "text/plain": [
       "<Figure size 432x288 with 1 Axes>"
      ]
     },
     "metadata": {},
     "output_type": "display_data"
    }
   ],
   "source": [
    "\n",
    "# Normaliza os valores dos pixels\n",
    "x_treino = x_treino.astype('float32')\n",
    "x_teste = x_teste.astype('float32')\n",
    "x_treino /= 255.0\n",
    "x_teste /= 255.0\n",
    "\n",
    "# Converte os rótulos para \"One-hot encoding\": \n",
    "y_treino = keras.utils.to_categorical(y_treino, nb_class)\n",
    "y_teste = keras.utils.to_categorical(y_teste, nb_class)\n",
    "\n",
    "# Cria o modelo executando um treino e avaliação:\n",
    "inputs = Input(shape=(img_h, img_w, 1))\n",
    "x = conv3x3(inputs, 32)\n",
    "x = conv3x3(x, 32)\n",
    "x = MaxPooling2D(pool_size=(2,2))(x) \n",
    "x = conv3x3(x, 64)\n",
    "x = conv3x3(x, 64)\n",
    "x = MaxPooling2D(pool_size=(2,2))(x) \n",
    "x = conv3x3(x, 128)\n",
    "x = MaxPooling2D(pool_size=(2,2))(x) \n",
    "x = Flatten()(x)\n",
    "x = Dense(128, activation=\"relu\")(x)\n",
    "preds = Dense(nb_class, activation='softmax')(x)\n",
    "model = Model(inputs=inputs, outputs=preds)\n",
    "\n",
    "# Compila o modelo: \n",
    "model.compile(loss=keras.losses.categorical_crossentropy,\n",
    "              optimizer=keras.optimizers.Adam(),\n",
    "              metrics=['accuracy'])\n",
    "\n",
    "# Cria um callback para salvar o modelo a cada \"epoch\" de treinamento completada: \n",
    "callback = ModelCheckpoint('dogs_cats_saved.h5')\n",
    "\n",
    "# Treina o modelo (demora cerca de 6 minutos sem GPU):\n",
    "history = model.fit(x_treino, y_treino,\n",
    "          batch_size=batch_sz,\n",
    "          epochs=nb_epochs,\n",
    "          verbose=1,\n",
    "          validation_data=(x_teste, y_teste), \n",
    "          callbacks=[callback])\n",
    "\n",
    "# Avalia o modelo com dados de teste:\n",
    "score = model.evaluate(x_teste, y_teste, verbose=0)\n",
    "print('Perda:', score[0])\n",
    "print('Acurácia:', score[1])\n",
    "\n",
    "# Plota gráficos de perda e acurácia: \n",
    "plt.plot(history.history['acc'])\n",
    "plt.plot(history.history['val_acc'])\n",
    "plt.title('Acurácia do modelo')\n",
    "plt.ylabel('Acurácia')\n",
    "plt.xlabel('epoch')\n",
    "plt.legend(['train', 'test'], loc='upper left')\n",
    "plt.show()\n",
    "\n",
    "plt.plot(history.history['loss'])\n",
    "plt.plot(history.history['val_loss'])\n",
    "plt.title('Perda do modelo')\n",
    "plt.ylabel('loss')\n",
    "plt.xlabel('epoch')\n",
    "plt.legend(['train', 'test'], loc='upper left')\n",
    "plt.show()"
   ]
  }
 ],
 "metadata": {
  "kernelspec": {
   "display_name": "Python 3",
   "language": "python",
   "name": "python3"
  },
  "language_info": {
   "codemirror_mode": {
    "name": "ipython",
    "version": 3
   },
   "file_extension": ".py",
   "mimetype": "text/x-python",
   "name": "python",
   "nbconvert_exporter": "python",
   "pygments_lexer": "ipython3",
   "version": "3.6.6"
  }
 },
 "nbformat": 4,
 "nbformat_minor": 2
}
