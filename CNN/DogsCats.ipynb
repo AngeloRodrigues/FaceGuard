{
 "cells": [
  {
   "cell_type": "markdown",
   "metadata": {},
   "source": [
    "# CNN para reconhecimento de imagens\n",
    "## Dataset Dogs & Cats - Kaggle\n",
    "*Cleuton Sampaio*"
   ]
  },
  {
   "cell_type": "markdown",
   "metadata": {},
   "source": [
    "[Dataset Dogs & cats](https://www.kaggle.com/c/dogs-vs-cats)\n",
    "Baixe o arquivos e descompacte conforme as variáveis **dir_treino** e **dir_teste**. Coloque labels em pelo menos 30 imagens de teste, para poder validar (é só renomear os arquivos como os de treino)."
   ]
  },
  {
   "cell_type": "code",
   "execution_count": 1,
   "metadata": {},
   "outputs": [
    {
     "name": "stderr",
     "output_type": "stream",
     "text": [
      "Using TensorFlow backend.\n"
     ]
    }
   ],
   "source": [
    "import keras \n",
    "import keras.backend as K\n",
    "import os, random\n",
    "from keras.layers import Dense, Conv2D, Input, MaxPooling2D, Flatten, Dropout\n",
    "from keras.models import Model\n",
    "from keras.datasets import fashion_mnist\n",
    "from keras.callbacks import ModelCheckpoint\n",
    "import numpy as np \n",
    "import matplotlib.pyplot as plt \n",
    "from matplotlib import cm\n",
    "import cv2 \n",
    "from keras.preprocessing import image\n",
    "%matplotlib inline"
   ]
  },
  {
   "cell_type": "code",
   "execution_count": 2,
   "metadata": {},
   "outputs": [],
   "source": [
    "batch_sz = 64 # Batch size\n",
    "nb_class = 2  # Número de classes\n",
    "nb_epochs = 10 # Número de epochs de treinamento\n",
    "img_h, img_w = 64, 64 # Altura e largura das imagens\n",
    "dir_treino = './dogscats/train/'\n",
    "dir_teste = './dogscats/test/'"
   ]
  },
  {
   "cell_type": "markdown",
   "metadata": {},
   "source": [
    "# Preparar arquivos de imagens"
   ]
  },
  {
   "cell_type": "code",
   "execution_count": 3,
   "metadata": {},
   "outputs": [],
   "source": [
    "def ler_imagem(file):\n",
    "    img = cv2.imread(file)\n",
    "    gray = cv2.cvtColor(img, cv2.COLOR_BGR2GRAY)\n",
    "    imres = cv2.resize(gray, (img_h, img_w), interpolation=cv2.INTER_CUBIC)\n",
    "    imres = image.img_to_array(imres.T)\n",
    "    imres = np.expand_dims(imres, axis = 0)    \n",
    "    return imres"
   ]
  },
  {
   "cell_type": "code",
   "execution_count": 4,
   "metadata": {},
   "outputs": [
    {
     "name": "stdout",
     "output_type": "stream",
     "text": [
      "Processados  1000\n",
      "Processados  2000\n",
      "Processados  3000\n",
      "Processados  4000\n",
      "Processados  5000\n",
      "Processados  6000\n",
      "Processados  7000\n",
      "Processados  8000\n",
      "Processados  9000\n",
      "Processados  10000\n",
      "Processados  11000\n",
      "Processados  12000\n",
      "Processados  13000\n",
      "Processados  14000\n",
      "Processados  15000\n",
      "Processados  16000\n",
      "Processados  17000\n",
      "Processados  18000\n",
      "Processados  19000\n",
      "Processados  20000\n",
      "Processados  21000\n",
      "Processados  22000\n",
      "Processados  23000\n",
      "Processados  24000\n",
      "Processados  25000\n"
     ]
    }
   ],
   "source": [
    "def gerar_dataset(filenames):\n",
    "    rotulos = []\n",
    "    dataset = np.ndarray((len(filenames), img_h, img_w, 1), dtype=np.uint8)\n",
    "    x = 0\n",
    "    for arquivo in filenames:\n",
    "        dataset[x] = ler_imagem(arquivo)\n",
    "        if '/cat.' in arquivo: \n",
    "            rotulos.append(0)\n",
    "        else:\n",
    "            rotulos.append(1)\n",
    "        x = x + 1\n",
    "        if x%1000==0:\n",
    "            print(\"Processados \",x)\n",
    "    return dataset, rotulos\n",
    "\n",
    "imagens_treino = [dir_treino+i for i in os.listdir(dir_treino) if '.jpg' in i]\n",
    "random.shuffle(imagens_treino)\n",
    "imagens_teste  = [dir_teste+i for i in os.listdir(dir_teste) if '.jpg' in i]\n",
    "x_treino, y_treino = gerar_dataset(imagens_treino)\n",
    "x_teste, y_teste  = gerar_dataset(imagens_teste)"
   ]
  },
  {
   "cell_type": "code",
   "execution_count": 5,
   "metadata": {},
   "outputs": [
    {
     "name": "stdout",
     "output_type": "stream",
     "text": [
      "(1, 64, 64, 1)\n"
     ]
    }
   ],
   "source": [
    "im = ler_imagem(imagens_treino[0])\n",
    "print(im.shape)"
   ]
  },
  {
   "cell_type": "code",
   "execution_count": 6,
   "metadata": {},
   "outputs": [],
   "source": [
    "def conv3x3(input_x,nb_filters):\n",
    "    # Prepara a camada convolucional\n",
    "    return Conv2D(nb_filters, kernel_size=(3,3), use_bias=False,\n",
    "               activation='relu', padding=\"same\")(input_x)"
   ]
  },
  {
   "cell_type": "code",
   "execution_count": 7,
   "metadata": {},
   "outputs": [],
   "source": [
    "\n",
    "# Normaliza os valores dos pixels\n",
    "x_treino = x_treino.astype('float32')\n",
    "x_teste = x_teste.astype('float32')\n",
    "x_treino /= 255.0\n",
    "x_teste /= 255.0\n",
    "\n",
    "# Converte os rótulos para \"One-hot encoding\": \n",
    "y_treino = keras.utils.to_categorical(y_treino, nb_class)\n",
    "y_teste = keras.utils.to_categorical(y_teste, nb_class)\n",
    "\n",
    "# Cria o modelo executando um treino e avaliação:\n",
    "inputs = Input(shape=(img_h, img_w, 1))\n",
    "x = conv3x3(inputs, 32)\n",
    "x = conv3x3(x, 32)\n",
    "x = MaxPooling2D(pool_size=(2,2))(x) \n",
    "x = conv3x3(x, 64)\n",
    "x = conv3x3(x, 64)\n",
    "x = MaxPooling2D(pool_size=(2,2))(x) \n",
    "x = conv3x3(x, 128)\n",
    "x = MaxPooling2D(pool_size=(2,2))(x) \n",
    "x = Flatten()(x)\n",
    "x = Dense(128, activation=\"relu\")(x)\n",
    "preds = Dense(nb_class, activation='softmax')(x)\n",
    "model = Model(inputs=inputs, outputs=preds)\n",
    "\n",
    "\n"
   ]
  },
  {
   "cell_type": "markdown",
   "metadata": {},
   "source": [
    "## Rode a célula seguinte se desejar carregar um modelo salvo"
   ]
  },
  {
   "cell_type": "code",
   "execution_count": 8,
   "metadata": {},
   "outputs": [],
   "source": [
    "model.load_weights(\"dogs_cats_saved.h5\")"
   ]
  },
  {
   "cell_type": "markdown",
   "metadata": {},
   "source": [
    "## Carregando ou não, rode a próxima célula"
   ]
  },
  {
   "cell_type": "code",
   "execution_count": 9,
   "metadata": {},
   "outputs": [],
   "source": [
    "# Compila o modelo: \n",
    "model.compile(loss=keras.losses.categorical_crossentropy,\n",
    "              optimizer=keras.optimizers.Adam(),\n",
    "              metrics=['accuracy'])\n",
    "\n"
   ]
  },
  {
   "cell_type": "markdown",
   "metadata": {},
   "source": [
    "## Rode a célula seguinte para treinar novamente a CNN"
   ]
  },
  {
   "cell_type": "code",
   "execution_count": null,
   "metadata": {},
   "outputs": [],
   "source": [
    "# Cria um callback para salvar o modelo a cada \"epoch\" de treinamento completada: \n",
    "callback = ModelCheckpoint('dogs_cats_saved.h5')\n",
    "\n",
    "# Treina o modelo (demora cerca de 6 minutos sem GPU):\n",
    "history = model.fit(x_treino, y_treino,\n",
    "          batch_size=batch_sz,\n",
    "          epochs=nb_epochs,\n",
    "          verbose=1,\n",
    "          validation_data=(x_teste, y_teste), \n",
    "          callbacks=[callback])\n",
    "\n",
    "# Avalia o modelo com dados de teste:\n",
    "score = model.evaluate(x_teste, y_teste, verbose=0)\n",
    "print('Perda:', score[0])\n",
    "print('Acurácia:', score[1])\n",
    "\n",
    "# Plota gráficos de perda e acurácia: \n",
    "plt.plot(history.history['acc'])\n",
    "plt.plot(history.history['val_acc'])\n",
    "plt.title('Acurácia do modelo')\n",
    "plt.ylabel('Acurácia')\n",
    "plt.xlabel('epoch')\n",
    "plt.legend(['train', 'test'], loc='upper left')\n",
    "plt.show()\n",
    "\n",
    "plt.plot(history.history['loss'])\n",
    "plt.plot(history.history['val_loss'])\n",
    "plt.title('Perda do modelo')\n",
    "plt.ylabel('loss')\n",
    "plt.xlabel('epoch')\n",
    "plt.legend(['train', 'test'], loc='upper left')\n",
    "plt.show()"
   ]
  },
  {
   "cell_type": "markdown",
   "metadata": {},
   "source": [
    "## Rode a célula seguinte para validar o modelo com imagens novas"
   ]
  },
  {
   "cell_type": "code",
   "execution_count": 22,
   "metadata": {},
   "outputs": [
    {
     "name": "stdout",
     "output_type": "stream",
     "text": [
      "['./dogscats/validate/cachorro1.jpg', './dogscats/validate/cachorro2.jpg', './dogscats/validate/cachorro3.jpg', './dogscats/validate/chocalho-gato.jpg', './dogscats/validate/gato02.jpg', './dogscats/validate/gatocara.jpg']\n",
      "Cachorro\n",
      "Cachorro\n",
      "Cachorro\n",
      "Gato\n",
      "Gato\n",
      "Gato\n"
     ]
    },
    {
     "data": {
      "image/png": "[encoded data removed]",
      "text/plain": [
       "<Figure size 432x288 with 6 Axes>"
      ]
     },
     "metadata": {},
     "output_type": "display_data"
    }
   ],
   "source": [
    "dir_validar = \"./dogscats/validate/\"\n",
    "nomes = [dir_validar+i for i in os.listdir(dir_validar) if '.jpg' in i]\n",
    "print(nomes)\n",
    "\n",
    "def prepararImagem(imagem):\n",
    "    test_image = image.img_to_array(imagem.T)\n",
    "    test_image = np.expand_dims(test_image, axis = 0)    \n",
    "    return test_image\n",
    "\n",
    "def mostraCateg(resultado):\n",
    "    categs = [\"Gato\", \"Cachorro\"]\n",
    "    for idx, val in enumerate(resultado[0]):\n",
    "        if val == 1:\n",
    "            return categs[idx]\n",
    "    \n",
    "i = 1\n",
    "for nome in nomes:\n",
    "    im = cv2.imread(nome)\n",
    "    gray = cv2.cvtColor(im, cv2.COLOR_BGR2GRAY)\n",
    "    imres = cv2.resize(gray, (img_h, img_w), interpolation=cv2.INTER_CUBIC)\n",
    "    dados = prepararImagem(imres)\n",
    "    plt.subplot(3, 3, i)\n",
    "    i = i + 1\n",
    "    plt.imshow(gray,cmap='gray')\n",
    "    plt.axis('off')\n",
    "    ret = model.predict(dados, batch_size=1) \n",
    "    print(mostraCateg(ret))    \n",
    "    "
   ]
  },
  {
   "cell_type": "code",
   "execution_count": null,
   "metadata": {},
   "outputs": [],
   "source": []
  }
 ],
 "metadata": {
  "kernelspec": {
   "display_name": "Python 3",
   "language": "python",
   "name": "python3"
  },
  "language_info": {
   "codemirror_mode": {
    "name": "ipython",
    "version": 3
   },
   "file_extension": ".py",
   "mimetype": "text/x-python",
   "name": "python",
   "nbconvert_exporter": "python",
   "pygments_lexer": "ipython3",
   "version": "3.6.6"
  }
 },
 "nbformat": 4,
 "nbformat_minor": 2
}
